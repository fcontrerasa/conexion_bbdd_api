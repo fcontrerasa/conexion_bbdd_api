{
 "cells": [
  {
   "cell_type": "code",
   "execution_count": null,
   "metadata": {},
   "outputs": [],
   "source": [
    "import requests\n",
    "import json\n",
    "import pandas as pd\n",
    "import cx_Oracle\n",
    "pd.options.display.max_rows\n",
    "from sqlalchemy.engine import create_engine\n",
    "import os\n",
    "import sys"
   ]
  },
  {
   "cell_type": "code",
   "execution_count": null,
   "metadata": {},
   "outputs": [],
   "source": [
    "dialect = 'oracle'\n",
    "\n",
    "sql_driver = 'cx_oracle'\n",
    "\n",
    "username = 'FCONTRERAS'\n",
    "\n",
    "password = 'FC4NTR2R1S#_2021'\n",
    "\n",
    "host = 'tisaldrexa-57nq3-scan.publicsubnetexa.biprodvcn.oraclevcn.com'\n",
    "\n",
    "port = 1521\n",
    "\n",
    "service = 'dwhcorp1.publicsubnetexa.biprodvcn.oraclevcn.com'\n",
    "\n",
    "engine_path_win_auth = dialect + '+' + sql_driver + '://' + username + ':' + password +'@' + host + ':' + str(port) + '/?service_name=' + service\n",
    "\n",
    "engine = create_engine(engine_path_win_auth)"
   ]
  },
  {
   "cell_type": "code",
   "execution_count": null,
   "metadata": {},
   "outputs": [],
   "source": [
    "os.path.dirname(sys.executable)"
   ]
  },
  {
   "cell_type": "code",
   "execution_count": null,
   "metadata": {},
   "outputs": [],
   "source": [
    "prueba_medicos = pd.read_sql_query('select * from TARGET_USER_PREP.EXT_ML_MEDICOS', engine)"
   ]
  }
 ],
 "metadata": {
  "kernelspec": {
   "display_name": "Python 3",
   "language": "python",
   "name": "python3"
  },
  "language_info": {
   "name": "python",
   "version": "3.8.6 (tags/v3.8.6:db45529, Sep 23 2020, 15:52:53) [MSC v.1927 64 bit (AMD64)]"
  },
  "orig_nbformat": 4,
  "vscode": {
   "interpreter": {
    "hash": "0d52a01955cd7a4f52690efed318842fd546d5207d2511b5b16d8625ffc9c57f"
   }
  }
 },
 "nbformat": 4,
 "nbformat_minor": 2
}
